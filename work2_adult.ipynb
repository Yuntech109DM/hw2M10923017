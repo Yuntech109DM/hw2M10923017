{
 "cells": [
  {
   "cell_type": "code",
   "execution_count": 1,
   "metadata": {},
   "outputs": [],
   "source": [
    "import pandas as pd\n",
    "import numpy as np\n",
    "from sklearn.preprocessing import StandardScaler\n",
    "from sklearn.model_selection import train_test_split\n",
    "from sklearn.preprocessing import LabelEncoder\n"
   ]
  },
  {
   "cell_type": "code",
   "execution_count": 2,
   "metadata": {},
   "outputs": [],
   "source": [
    "x = pd.read_csv(\n",
    "    r'C:\\Users\\user\\adult.train.txt',\n",
    "    header=None,\n",
    "    names=['age', 'workclass', 'fnlwgt', 'education', \n",
    "           'education-num', 'marital-status', 'occupation',\n",
    "           'relationship','race','sex','capital-gain',\n",
    "           'capital-loss','hours-per-week','native-country','income']\n",
    ")\n",
    "\n",
    "y = pd.read_csv(\n",
    "    r'C:\\Users\\user\\adult.test.txt',\n",
    "    header=None,\n",
    "    names=['age', 'workclass', 'fnlwgt', 'education', \n",
    "           'education-num', 'marital-status', 'occupation',\n",
    "           'relationship','race','sex','capital-gain',\n",
    "           'capital-loss','hours-per-week','native-country','income']\n",
    ")\n"
   ]
  },
  {
   "cell_type": "code",
   "execution_count": 3,
   "metadata": {},
   "outputs": [],
   "source": [
    "#nan or ？　data processing\n",
    "for i in x.columns:\n",
    "    x[i].replace(' ?', inplace=True)\n",
    "    x[i].replace('Unknown', inplace=True)\n",
    "    \n",
    "for i in y.columns:\n",
    "    y[i].replace(' ?', inplace=True)\n",
    "    y[i].replace('Unknown', inplace=True)"
   ]
  },
  {
   "cell_type": "code",
   "execution_count": 4,
   "metadata": {},
   "outputs": [],
   "source": [
    "#remove column\n",
    "x.drop('fnlwgt', axis=1, inplace=True)\n",
    "x.drop('education-num', axis=1, inplace=True)\n",
    "x.drop('relationship', axis=1, inplace=True)\n",
    "x.drop('native-country', axis=1, inplace=True)\n",
    "x.drop('marital-status', axis=1, inplace=True)\n",
    "\n",
    "y.drop('fnlwgt', axis=1, inplace=True)\n",
    "y.drop('education-num', axis=1, inplace=True)\n",
    "y.drop('relationship', axis=1, inplace=True)\n",
    "y.drop('native-country', axis=1, inplace=True)\n",
    "y.drop('marital-status', axis=1, inplace=True)"
   ]
  },
  {
   "cell_type": "code",
   "execution_count": 5,
   "metadata": {},
   "outputs": [],
   "source": [
    "#onehot encoding\n",
    "labelencoder = LabelEncoder()\n",
    "data_le=pd.DataFrame(x)\n",
    "data_le['workclass'] = labelencoder.fit_transform(x['workclass'])\n",
    "data_le['education'] = labelencoder.fit_transform(x['education'])\n",
    "data_le['occupation'] = labelencoder.fit_transform(x['occupation'])\n",
    "data_le['race'] = labelencoder.fit_transform(x['race'])\n",
    "data_le['sex'] = labelencoder.fit_transform(x['sex'])\n",
    "data_le['capital-gain'] = labelencoder.fit_transform(x['capital-gain'])\n",
    "data_le['capital-loss'] = labelencoder.fit_transform(x['capital-loss'])\n",
    "data_le['hours-per-week'] = labelencoder.fit_transform(x['hours-per-week'])\n",
    "data_le['income'] = labelencoder.fit_transform(x['income'])\n",
    "#----\n",
    "labelencoder = LabelEncoder()\n",
    "data_ley=pd.DataFrame(y)\n",
    "data_ley['workclass'] = labelencoder.fit_transform(y['workclass'])\n",
    "data_ley['education'] = labelencoder.fit_transform(y['education'])\n",
    "data_ley['occupation'] = labelencoder.fit_transform(y['occupation'])\n",
    "data_ley['race'] = labelencoder.fit_transform(y['race'])\n",
    "data_ley['sex'] = labelencoder.fit_transform(y['sex'])\n",
    "data_ley['capital-gain'] = labelencoder.fit_transform(y['capital-gain'])\n",
    "data_ley['capital-loss'] = labelencoder.fit_transform(y['capital-loss'])\n",
    "data_ley['hours-per-week'] = labelencoder.fit_transform(y['hours-per-week'])\n",
    "data_ley['income'] = labelencoder.fit_transform(y['income'])\n",
    "    "
   ]
  },
  {
   "cell_type": "code",
   "execution_count": 6,
   "metadata": {},
   "outputs": [],
   "source": [
    "#x_train.txt , y_test.txt\n",
    "#train\n",
    "X=x\n",
    "X1=x['hours-per-week']\n",
    "\n",
    "#test\n",
    "Y=y\n",
    "Y1=y['hours-per-week']\n"
   ]
  },
  {
   "cell_type": "code",
   "execution_count": null,
   "metadata": {},
   "outputs": [],
   "source": []
  },
  {
   "cell_type": "markdown",
   "metadata": {},
   "source": [
    "# data"
   ]
  },
  {
   "cell_type": "code",
   "execution_count": 7,
   "metadata": {},
   "outputs": [],
   "source": [
    "x_train=np.array(X)#32561,10\n",
    "\n",
    "y_train=np.array(X1)#32561      column atrribute \n",
    "\n",
    "x_test=np.array(Y)#16281,10\n",
    "\n",
    "y_test=np.array(Y1)#16281 column\n"
   ]
  },
  {
   "cell_type": "markdown",
   "metadata": {},
   "source": [
    "# rmse mape"
   ]
  },
  {
   "cell_type": "code",
   "execution_count": null,
   "metadata": {},
   "outputs": [],
   "source": []
  },
  {
   "cell_type": "code",
   "execution_count": 8,
   "metadata": {},
   "outputs": [],
   "source": [
    "from sklearn.metrics import mean_squared_error\n",
    "from sklearn.metrics import  mean_absolute_error"
   ]
  },
  {
   "cell_type": "code",
   "execution_count": 9,
   "metadata": {},
   "outputs": [],
   "source": [
    "def mean_absolute_percentage_error(y_true, y_pred): \n",
    "    y_true, y_pred = np.array(y_true), np.array(y_pred)\n",
    "    return np.mean(np.abs((y_true - y_pred) / y_true)) * 100\n",
    "#MAPE:範圍[0,+∞)，MAPE 爲0%表示完美模型，MAPE 大於 100 %則表示劣質模型。MAPE 的值越小，說明預測模型擁有更好的精確度.\n"
   ]
  },
  {
   "cell_type": "code",
   "execution_count": 10,
   "metadata": {},
   "outputs": [],
   "source": [
    "def rmse(predictions, targets):\n",
    "    return np.sqrt(((predictions - targets) ** 2).mean())"
   ]
  },
  {
   "cell_type": "markdown",
   "metadata": {},
   "source": [
    "# svr"
   ]
  },
  {
   "cell_type": "code",
   "execution_count": 11,
   "metadata": {},
   "outputs": [],
   "source": [
    "from sklearn.svm import SVR"
   ]
  },
  {
   "cell_type": "code",
   "execution_count": 12,
   "metadata": {},
   "outputs": [],
   "source": [
    "linear_svr = SVR(kernel=\"linear\", C=1e3, gamma=0.1)"
   ]
  },
  {
   "cell_type": "code",
   "execution_count": 13,
   "metadata": {},
   "outputs": [
    {
     "data": {
      "text/plain": [
       "SVR(C=1000.0, gamma=0.1, kernel='linear')"
      ]
     },
     "execution_count": 13,
     "metadata": {},
     "output_type": "execute_result"
    }
   ],
   "source": [
    "# train data\n",
    "linear_svr.fit(x_train, y_train)"
   ]
  },
  {
   "cell_type": "code",
   "execution_count": 14,
   "metadata": {},
   "outputs": [
    {
     "data": {
      "text/plain": [
       "0.9999937941763316"
      ]
     },
     "execution_count": 14,
     "metadata": {},
     "output_type": "execute_result"
    }
   ],
   "source": [
    "#score test\n",
    "linear_svr.score(x_test,y_test)"
   ]
  },
  {
   "cell_type": "code",
   "execution_count": 15,
   "metadata": {},
   "outputs": [
    {
     "data": {
      "text/plain": [
       "0.9999937887921201"
      ]
     },
     "execution_count": 15,
     "metadata": {},
     "output_type": "execute_result"
    }
   ],
   "source": [
    "#score train\n",
    "linear_svr.score(x_train,y_train)"
   ]
  },
  {
   "cell_type": "code",
   "execution_count": 16,
   "metadata": {},
   "outputs": [],
   "source": [
    "#預測結果\n",
    "linear_svr_y_predict = linear_svr.predict(x_test)"
   ]
  },
  {
   "cell_type": "code",
   "execution_count": 17,
   "metadata": {},
   "outputs": [
    {
     "name": "stdout",
     "output_type": "stream",
     "text": [
      "mape 0.16094392698474413\n"
     ]
    }
   ],
   "source": [
    "print(\"mape\",mean_absolute_percentage_error(linear_svr_y_predict,y_test))"
   ]
  },
  {
   "cell_type": "code",
   "execution_count": 18,
   "metadata": {},
   "outputs": [],
   "source": [
    "SVR_mape=mean_absolute_percentage_error(linear_svr_y_predict,y_test)"
   ]
  },
  {
   "cell_type": "code",
   "execution_count": 19,
   "metadata": {},
   "outputs": [
    {
     "name": "stdout",
     "output_type": "stream",
     "text": [
      "rmse 0.030503525315161744\n"
     ]
    }
   ],
   "source": [
    "print(\"rmse\",rmse(y_test,linear_svr_y_predict))"
   ]
  },
  {
   "cell_type": "code",
   "execution_count": 20,
   "metadata": {},
   "outputs": [],
   "source": [
    "SVR_rmse=rmse(y_test,linear_svr_y_predict)"
   ]
  },
  {
   "cell_type": "code",
   "execution_count": 21,
   "metadata": {},
   "outputs": [],
   "source": [
    "#print(np.sqrt(mean_squared_error(y_test, linear_svr_y_predict)))"
   ]
  },
  {
   "cell_type": "markdown",
   "metadata": {},
   "source": [
    "# RF"
   ]
  },
  {
   "cell_type": "code",
   "execution_count": 22,
   "metadata": {},
   "outputs": [],
   "source": [
    "from sklearn.ensemble import RandomForestClassifier\n"
   ]
  },
  {
   "cell_type": "code",
   "execution_count": 23,
   "metadata": {},
   "outputs": [],
   "source": [
    "rf = RandomForestClassifier(max_depth=4, random_state=0)"
   ]
  },
  {
   "cell_type": "code",
   "execution_count": 24,
   "metadata": {},
   "outputs": [
    {
     "data": {
      "text/plain": [
       "RandomForestClassifier(max_depth=4, random_state=0)"
      ]
     },
     "execution_count": 24,
     "metadata": {},
     "output_type": "execute_result"
    }
   ],
   "source": [
    "rf.fit(x_train,y_train)"
   ]
  },
  {
   "cell_type": "code",
   "execution_count": 25,
   "metadata": {},
   "outputs": [
    {
     "data": {
      "text/plain": [
       "0.6296796781425632"
      ]
     },
     "execution_count": 25,
     "metadata": {},
     "output_type": "execute_result"
    }
   ],
   "source": [
    "rf.score(x_train,y_train)"
   ]
  },
  {
   "cell_type": "code",
   "execution_count": 26,
   "metadata": {},
   "outputs": [
    {
     "data": {
      "text/plain": [
       "0.6257600884466556"
      ]
     },
     "execution_count": 26,
     "metadata": {},
     "output_type": "execute_result"
    }
   ],
   "source": [
    "rf.score(x_test,y_test)"
   ]
  },
  {
   "cell_type": "code",
   "execution_count": 27,
   "metadata": {},
   "outputs": [],
   "source": [
    "rf_pred=rf.predict(x_test)"
   ]
  },
  {
   "cell_type": "code",
   "execution_count": 28,
   "metadata": {},
   "outputs": [
    {
     "name": "stdout",
     "output_type": "stream",
     "text": [
      "mape 11.67581241634285\n"
     ]
    }
   ],
   "source": [
    "print(\"mape\",mean_absolute_percentage_error(rf_pred,y_test))"
   ]
  },
  {
   "cell_type": "code",
   "execution_count": 29,
   "metadata": {},
   "outputs": [],
   "source": [
    "RF_mape=mean_absolute_percentage_error(rf_pred,y_test)/100"
   ]
  },
  {
   "cell_type": "code",
   "execution_count": 30,
   "metadata": {},
   "outputs": [
    {
     "name": "stdout",
     "output_type": "stream",
     "text": [
      "rmse 9.597229372110881\n"
     ]
    }
   ],
   "source": [
    "print(\"rmse\",rmse(y_test,rf_pred))"
   ]
  },
  {
   "cell_type": "code",
   "execution_count": 31,
   "metadata": {},
   "outputs": [],
   "source": [
    "RF_rmse=rmse(y_test,rf_pred)/100"
   ]
  },
  {
   "cell_type": "markdown",
   "metadata": {},
   "source": [
    "# xgboost"
   ]
  },
  {
   "cell_type": "code",
   "execution_count": 32,
   "metadata": {},
   "outputs": [],
   "source": [
    "import xgboost as xgb"
   ]
  },
  {
   "cell_type": "code",
   "execution_count": 33,
   "metadata": {},
   "outputs": [],
   "source": [
    "xgb_model =xgb.XGBRegressor(objective=\"reg:linear\", random_state=0)"
   ]
  },
  {
   "cell_type": "code",
   "execution_count": 34,
   "metadata": {},
   "outputs": [
    {
     "name": "stdout",
     "output_type": "stream",
     "text": [
      "[23:56:00] WARNING: C:/Users/Administrator/workspace/xgboost-win64_release_1.2.0/src/objective/regression_obj.cu:174: reg:linear is now deprecated in favor of reg:squarederror.\n",
      "[23:56:00] WARNING: C:/Users/Administrator/workspace/xgboost-win64_release_1.2.0/src/objective/regression_obj.cu:174: reg:linear is now deprecated in favor of reg:squarederror.\n"
     ]
    },
    {
     "data": {
      "text/plain": [
       "XGBRegressor(base_score=0.5, booster='gbtree', colsample_bylevel=1,\n",
       "             colsample_bynode=1, colsample_bytree=1, gamma=0, gpu_id=-1,\n",
       "             importance_type='gain', interaction_constraints='',\n",
       "             learning_rate=0.300000012, max_delta_step=0, max_depth=6,\n",
       "             min_child_weight=1, missing=nan, monotone_constraints='()',\n",
       "             n_estimators=100, n_jobs=0, num_parallel_tree=1,\n",
       "             objective='reg:linear', random_state=0, reg_alpha=0, reg_lambda=1,\n",
       "             scale_pos_weight=1, subsample=1, tree_method='exact',\n",
       "             validate_parameters=1, verbosity=None)"
      ]
     },
     "execution_count": 34,
     "metadata": {},
     "output_type": "execute_result"
    }
   ],
   "source": [
    "xgb_model.fit(x_train,y_train)"
   ]
  },
  {
   "cell_type": "code",
   "execution_count": null,
   "metadata": {},
   "outputs": [],
   "source": []
  },
  {
   "cell_type": "code",
   "execution_count": 35,
   "metadata": {},
   "outputs": [],
   "source": [
    "y_pred = xgb_model.predict(x_test)\n",
    "XG_mape=mean_absolute_percentage_error(y_pred,y_test)"
   ]
  },
  {
   "cell_type": "code",
   "execution_count": 36,
   "metadata": {},
   "outputs": [
    {
     "name": "stdout",
     "output_type": "stream",
     "text": [
      "mape 0.04538023182823856\n"
     ]
    }
   ],
   "source": [
    "print(\"mape\",XG_mape)"
   ]
  },
  {
   "cell_type": "code",
   "execution_count": 37,
   "metadata": {},
   "outputs": [],
   "source": [
    "XG_rsme= rmse(y_test,y_pred)"
   ]
  },
  {
   "cell_type": "code",
   "execution_count": 38,
   "metadata": {},
   "outputs": [
    {
     "name": "stdout",
     "output_type": "stream",
     "text": [
      "rmse 0.02008676036477009\n"
     ]
    }
   ],
   "source": [
    "print(\"rmse\",XG_rsme)"
   ]
  },
  {
   "cell_type": "markdown",
   "metadata": {},
   "source": [
    "# NN"
   ]
  },
  {
   "cell_type": "code",
   "execution_count": 39,
   "metadata": {},
   "outputs": [],
   "source": [
    "from sklearn.neural_network import MLPClassifier"
   ]
  },
  {
   "cell_type": "code",
   "execution_count": 40,
   "metadata": {},
   "outputs": [],
   "source": [
    "clf = MLPClassifier(solver='lbfgs',\n",
    "                     hidden_layer_sizes=(5, 2), random_state=42)"
   ]
  },
  {
   "cell_type": "code",
   "execution_count": 41,
   "metadata": {},
   "outputs": [
    {
     "data": {
      "text/plain": [
       "MLPClassifier(hidden_layer_sizes=(5, 2), random_state=42, solver='lbfgs')"
      ]
     },
     "execution_count": 41,
     "metadata": {},
     "output_type": "execute_result"
    }
   ],
   "source": [
    " clf.fit(X, X1)"
   ]
  },
  {
   "cell_type": "code",
   "execution_count": 42,
   "metadata": {},
   "outputs": [],
   "source": [
    "clfe=clf.predict(Y)"
   ]
  },
  {
   "cell_type": "code",
   "execution_count": 43,
   "metadata": {},
   "outputs": [
    {
     "data": {
      "text/plain": [
       "array([39, 39, 39, ..., 39, 39, 39], dtype=int64)"
      ]
     },
     "execution_count": 43,
     "metadata": {},
     "output_type": "execute_result"
    }
   ],
   "source": [
    "clfe"
   ]
  },
  {
   "cell_type": "code",
   "execution_count": 44,
   "metadata": {},
   "outputs": [
    {
     "name": "stdout",
     "output_type": "stream",
     "text": [
      "mape 18.951459858038078\n"
     ]
    }
   ],
   "source": [
    "print(\"mape\",mean_absolute_percentage_error(clfe,Y1))\n",
    "NN_mape=mean_absolute_percentage_error(clfe,Y1)/100"
   ]
  },
  {
   "cell_type": "code",
   "execution_count": 45,
   "metadata": {},
   "outputs": [],
   "source": [
    "error=(clfe-Y1)**2"
   ]
  },
  {
   "cell_type": "code",
   "execution_count": 46,
   "metadata": {},
   "outputs": [],
   "source": [
    "er=np.array(error)"
   ]
  },
  {
   "cell_type": "code",
   "execution_count": 47,
   "metadata": {},
   "outputs": [],
   "source": [
    "NNrmse=np.sqrt(er).mean()\n",
    "NN_rmse=NNrmse/100"
   ]
  },
  {
   "cell_type": "code",
   "execution_count": 48,
   "metadata": {},
   "outputs": [
    {
     "name": "stdout",
     "output_type": "stream",
     "text": [
      "rmse 7.39106934463485\n"
     ]
    }
   ],
   "source": [
    "print('rmse',NNrmse)"
   ]
  },
  {
   "cell_type": "markdown",
   "metadata": {},
   "source": [
    "# -----"
   ]
  },
  {
   "cell_type": "code",
   "execution_count": 80,
   "metadata": {},
   "outputs": [],
   "source": [
    "P= ['SVR', 'RF', 'XGBOOST', 'NN']\n",
    "com_mape=[SVR_mape,RF_mape,XG_mape,NN_mape]\n",
    "com_rmse=[SVR_rmse,RF_rmse,XG_rsme,NN_rmse]\n",
    "PC=[com_mape,com_rmse]\n",
    "cc=['mape','rmse']"
   ]
  },
  {
   "cell_type": "code",
   "execution_count": 84,
   "metadata": {},
   "outputs": [],
   "source": [
    "df2 = pd.DataFrame(PC,\n",
    "                   columns=['SVR', 'RF', 'XGBOOST', 'NN'] )\n",
    "df2.index=['mape','rmse']"
   ]
  },
  {
   "cell_type": "code",
   "execution_count": 85,
   "metadata": {},
   "outputs": [
    {
     "data": {
      "text/html": [
       "<div>\n",
       "<style scoped>\n",
       "    .dataframe tbody tr th:only-of-type {\n",
       "        vertical-align: middle;\n",
       "    }\n",
       "\n",
       "    .dataframe tbody tr th {\n",
       "        vertical-align: top;\n",
       "    }\n",
       "\n",
       "    .dataframe thead th {\n",
       "        text-align: right;\n",
       "    }\n",
       "</style>\n",
       "<table border=\"1\" class=\"dataframe\">\n",
       "  <thead>\n",
       "    <tr style=\"text-align: right;\">\n",
       "      <th></th>\n",
       "      <th>SVR</th>\n",
       "      <th>RF</th>\n",
       "      <th>XGBOOST</th>\n",
       "      <th>NN</th>\n",
       "    </tr>\n",
       "  </thead>\n",
       "  <tbody>\n",
       "    <tr>\n",
       "      <th>mape</th>\n",
       "      <td>0.160944</td>\n",
       "      <td>0.116758</td>\n",
       "      <td>0.045380</td>\n",
       "      <td>0.189515</td>\n",
       "    </tr>\n",
       "    <tr>\n",
       "      <th>rmse</th>\n",
       "      <td>0.030504</td>\n",
       "      <td>0.095972</td>\n",
       "      <td>0.020087</td>\n",
       "      <td>0.073911</td>\n",
       "    </tr>\n",
       "  </tbody>\n",
       "</table>\n",
       "</div>"
      ],
      "text/plain": [
       "           SVR        RF   XGBOOST        NN\n",
       "mape  0.160944  0.116758  0.045380  0.189515\n",
       "rmse  0.030504  0.095972  0.020087  0.073911"
      ]
     },
     "execution_count": 85,
     "metadata": {},
     "output_type": "execute_result"
    }
   ],
   "source": [
    "df2"
   ]
  },
  {
   "cell_type": "markdown",
   "metadata": {},
   "source": [
    "# --"
   ]
  },
  {
   "cell_type": "code",
   "execution_count": 49,
   "metadata": {},
   "outputs": [],
   "source": [
    "import matplotlib.pyplot as plt\n",
    "from sklearn import preprocessing \n",
    "from sklearn.model_selection import train_test_split\n",
    "\n",
    "\n",
    "from matplotlib.pylab import rcParams\n",
    "rcParams['figure.figsize'] = 8, 5"
   ]
  },
  {
   "cell_type": "code",
   "execution_count": 50,
   "metadata": {},
   "outputs": [
    {
     "data": {
      "text/plain": [
       "Text(0, 0.5, 'num')"
      ]
     },
     "execution_count": 50,
     "metadata": {},
     "output_type": "execute_result"
    },
    {
     "data": {
      "image/png": "[encoded data removed]",
      "text/plain": [
       "<Figure size 576x360 with 1 Axes>"
      ]
     },
     "metadata": {
      "needs_background": "light"
     },
     "output_type": "display_data"
    }
   ],
   "source": [
    "import matplotlib.pyplot as plt\n",
    "P= ['SVR', 'RF', 'XGBOOST', 'NN']\n",
    "class_a_mape = [SVR_mape,RF_mape,XG_mape,NN_mape]\n",
    "class_b_rmse = [SVR_rmse,RF_rmse,XG_rsme,NN_rmse]\n",
    "\n",
    "plt.bar(P, class_a_mape, label = 'class_a_mape', align = \"edge\", width = 0.35)\n",
    "\n",
    "plt.bar(P, class_b_rmse, label = 'class_b_rmse', align = \"edge\", width = -0.35)\n",
    "\n",
    "plt.xlabel('c lass')\n",
    "plt.ylabel('num')"
   ]
  },
  {
   "cell_type": "code",
   "execution_count": null,
   "metadata": {},
   "outputs": [],
   "source": []
  },
  {
   "cell_type": "code",
   "execution_count": null,
   "metadata": {},
   "outputs": [],
   "source": []
  }
 ],
 "metadata": {
  "kernelspec": {
   "display_name": "Python 3",
   "language": "python",
   "name": "python3"
  },
  "language_info": {
   "codemirror_mode": {
    "name": "ipython",
    "version": 3
   },
   "file_extension": ".py",
   "mimetype": "text/x-python",
   "name": "python",
   "nbconvert_exporter": "python",
   "pygments_lexer": "ipython3",
   "version": "3.8.3"
  }
 },
 "nbformat": 4,
 "nbformat_minor": 4
}
